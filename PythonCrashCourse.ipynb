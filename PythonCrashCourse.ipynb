{
  "nbformat": 4,
  "nbformat_minor": 0,
  "metadata": {
    "colab": {
      "provenance": []
    },
    "kernelspec": {
      "name": "python3",
      "display_name": "Python 3"
    },
    "language_info": {
      "name": "python"
    }
  },
  "cells": [
    {
      "cell_type": "markdown",
      "source": [
        "Python is an interpreted, interactive, object-oriented, and high-level programming language.\n",
        "Python is dynamically-typed and garbage-collected programming language.\n",
        "Python supports multiple programming paradigms, including Procedural, Object Oriented\n",
        "and Functional programming language\n"
      ],
      "metadata": {
        "id": "-suMtCPnlzbA"
      }
    },
    {
      "cell_type": "markdown",
      "source": [
        "# **Using Python's pip to Manage Your Projects' Dependencies**\n",
        "pip install is a command used in the Python programming language to install packages or\n",
        "libraries from the Python Package Index (PyPI). PyPI is a repository of software packages\n",
        "developed and shared by the Python community.\n",
        "\n",
        "• Here's how you typically use pip install:\n",
        "\n",
        "pip install package_name\n",
        "\n",
        "Replace \"package_name\" with the name of the Python package you want to\n",
        "install. When you run this command, pip will download the specified package\n",
        "and its dependencies from PyPI and install them on your system."
      ],
      "metadata": {
        "id": "LCX-kwaIjtCH"
      }
    },
    {
      "cell_type": "code",
      "source": [
        "!pip uninstall -a -q transformers"
      ],
      "metadata": {
        "id": "SeLS1Ywp5XsQ"
      },
      "execution_count": null,
      "outputs": []
    },
    {
      "cell_type": "markdown",
      "source": [
        "## **Python Identifiers**\n",
        "A Python identifier is a name used to identify a variable, function, class, module or\n",
        "other object.\n",
        "\n",
        "• An identifier starts with a letter A to Z or a to z or an underscore (_) followed by zero\n",
        "or more letters, underscores and digits (0 to 9).\n",
        "\n",
        "• Python does not allow punctuation characters such as @, $, and % within identifiers.\n",
        "\n",
        "• Python is a case sensitive programming language. Thus, cap and Cap are two different\n",
        "identifiers in Python.\n",
        "\n",
        "# **Variables in Python**\n",
        "Variable is a name attached to a particular object.\n",
        "\n",
        "• In Python, variables need not be declared or defined in advance. To create a variable,\n",
        "you just assign it a value and then start using it.\n",
        "\n",
        "• Assignment is done with a single equals sign (=):\n"
      ],
      "metadata": {
        "id": "hXjXMT0lfM18"
      }
    },
    {
      "cell_type": "code",
      "source": [
        "var_int = 1\n",
        "var_float = 1.3\n",
        "var_str = 'GenAI'\n",
        "var_list = [1, 2, 3, 'GenAI']\n",
        "var_tuple = (1, 2, 3, 'GenAI')\n",
        "var_dict = {'tech':'GenAI', 'env':'Google Colab'}\n",
        "var_set = {1, 2, 'GenAI'}\n",
        "\n",
        "print(type(var_set))"
      ],
      "metadata": {
        "colab": {
          "base_uri": "https://localhost:8080/"
        },
        "id": "He-g7F8-fHYS",
        "outputId": "2dafedfb-edd4-403f-fcad-8f2097430edb"
      },
      "execution_count": null,
      "outputs": [
        {
          "output_type": "stream",
          "name": "stdout",
          "text": [
            "<class 'set'>\n"
          ]
        }
      ]
    },
    {
      "cell_type": "markdown",
      "source": [
        "# **Variable Names**\n",
        "Variable names in Python can be any length and can consist of uppercase and\n",
        "lowercase letters (A-Z, a-z), digits (0-9), and the underscore character (_).\n",
        "\n",
        "An additional restriction is that, although a variable name can contain digits, the first\n",
        "character of a variable name cannot be a digit"
      ],
      "metadata": {
        "id": "lScaLA3_gUkD"
      }
    },
    {
      "cell_type": "markdown",
      "source": [
        "# **Functions in Python**"
      ],
      "metadata": {
        "id": "M8Xt_1icjFIo"
      }
    },
    {
      "cell_type": "code",
      "source": [
        "def divison(var_1, var_2):\n",
        "  try:\n",
        "    divide = var_1/var_2\n",
        "    print(divide)\n",
        "  except Exception as e:\n",
        "    print(e)\n",
        "    raise e\n",
        "\n",
        "def main():\n",
        "  divison(1, 0)"
      ],
      "metadata": {
        "id": "ULrEQjGegS3E"
      },
      "execution_count": null,
      "outputs": []
    },
    {
      "cell_type": "code",
      "source": [
        "main()"
      ],
      "metadata": {
        "colab": {
          "base_uri": "https://localhost:8080/",
          "height": 339
        },
        "id": "NELGni-mjlVl",
        "outputId": "f12ee841-62a0-43a6-a5cf-3cac5b1949fa"
      },
      "execution_count": null,
      "outputs": [
        {
          "output_type": "stream",
          "name": "stdout",
          "text": [
            "division by zero\n"
          ]
        },
        {
          "output_type": "error",
          "ename": "ZeroDivisionError",
          "evalue": "division by zero",
          "traceback": [
            "\u001b[0;31m---------------------------------------------------------------------------\u001b[0m",
            "\u001b[0;31mZeroDivisionError\u001b[0m                         Traceback (most recent call last)",
            "\u001b[0;32m<ipython-input-27-263240bbee7e>\u001b[0m in \u001b[0;36m<cell line: 1>\u001b[0;34m()\u001b[0m\n\u001b[0;32m----> 1\u001b[0;31m \u001b[0mmain\u001b[0m\u001b[0;34m(\u001b[0m\u001b[0;34m)\u001b[0m\u001b[0;34m\u001b[0m\u001b[0;34m\u001b[0m\u001b[0m\n\u001b[0m",
            "\u001b[0;32m<ipython-input-26-95d63f4092f3>\u001b[0m in \u001b[0;36mmain\u001b[0;34m()\u001b[0m\n\u001b[1;32m      8\u001b[0m \u001b[0;34m\u001b[0m\u001b[0m\n\u001b[1;32m      9\u001b[0m \u001b[0;32mdef\u001b[0m \u001b[0mmain\u001b[0m\u001b[0;34m(\u001b[0m\u001b[0;34m)\u001b[0m\u001b[0;34m:\u001b[0m\u001b[0;34m\u001b[0m\u001b[0;34m\u001b[0m\u001b[0m\n\u001b[0;32m---> 10\u001b[0;31m   \u001b[0mdivison\u001b[0m\u001b[0;34m(\u001b[0m\u001b[0;36m1\u001b[0m\u001b[0;34m,\u001b[0m \u001b[0;36m0\u001b[0m\u001b[0;34m)\u001b[0m\u001b[0;34m\u001b[0m\u001b[0;34m\u001b[0m\u001b[0m\n\u001b[0m",
            "\u001b[0;32m<ipython-input-26-95d63f4092f3>\u001b[0m in \u001b[0;36mdivison\u001b[0;34m(var_1, var_2)\u001b[0m\n\u001b[1;32m      5\u001b[0m   \u001b[0;32mexcept\u001b[0m \u001b[0mException\u001b[0m \u001b[0;32mas\u001b[0m \u001b[0me\u001b[0m\u001b[0;34m:\u001b[0m\u001b[0;34m\u001b[0m\u001b[0;34m\u001b[0m\u001b[0m\n\u001b[1;32m      6\u001b[0m     \u001b[0mprint\u001b[0m\u001b[0;34m(\u001b[0m\u001b[0me\u001b[0m\u001b[0;34m)\u001b[0m\u001b[0;34m\u001b[0m\u001b[0;34m\u001b[0m\u001b[0m\n\u001b[0;32m----> 7\u001b[0;31m     \u001b[0;32mraise\u001b[0m \u001b[0me\u001b[0m\u001b[0;34m\u001b[0m\u001b[0;34m\u001b[0m\u001b[0m\n\u001b[0m\u001b[1;32m      8\u001b[0m \u001b[0;34m\u001b[0m\u001b[0m\n\u001b[1;32m      9\u001b[0m \u001b[0;32mdef\u001b[0m \u001b[0mmain\u001b[0m\u001b[0;34m(\u001b[0m\u001b[0;34m)\u001b[0m\u001b[0;34m:\u001b[0m\u001b[0;34m\u001b[0m\u001b[0;34m\u001b[0m\u001b[0m\n",
            "\u001b[0;32m<ipython-input-26-95d63f4092f3>\u001b[0m in \u001b[0;36mdivison\u001b[0;34m(var_1, var_2)\u001b[0m\n\u001b[1;32m      1\u001b[0m \u001b[0;32mdef\u001b[0m \u001b[0mdivison\u001b[0m\u001b[0;34m(\u001b[0m\u001b[0mvar_1\u001b[0m\u001b[0;34m,\u001b[0m \u001b[0mvar_2\u001b[0m\u001b[0;34m)\u001b[0m\u001b[0;34m:\u001b[0m\u001b[0;34m\u001b[0m\u001b[0;34m\u001b[0m\u001b[0m\n\u001b[1;32m      2\u001b[0m   \u001b[0;32mtry\u001b[0m\u001b[0;34m:\u001b[0m\u001b[0;34m\u001b[0m\u001b[0;34m\u001b[0m\u001b[0m\n\u001b[0;32m----> 3\u001b[0;31m     \u001b[0mdivide\u001b[0m \u001b[0;34m=\u001b[0m \u001b[0mvar_1\u001b[0m\u001b[0;34m/\u001b[0m\u001b[0mvar_2\u001b[0m\u001b[0;34m\u001b[0m\u001b[0;34m\u001b[0m\u001b[0m\n\u001b[0m\u001b[1;32m      4\u001b[0m     \u001b[0mprint\u001b[0m\u001b[0;34m(\u001b[0m\u001b[0mdivide\u001b[0m\u001b[0;34m)\u001b[0m\u001b[0;34m\u001b[0m\u001b[0;34m\u001b[0m\u001b[0m\n\u001b[1;32m      5\u001b[0m   \u001b[0;32mexcept\u001b[0m \u001b[0mException\u001b[0m \u001b[0;32mas\u001b[0m \u001b[0me\u001b[0m\u001b[0;34m:\u001b[0m\u001b[0;34m\u001b[0m\u001b[0;34m\u001b[0m\u001b[0m\n",
            "\u001b[0;31mZeroDivisionError\u001b[0m: division by zero"
          ]
        }
      ]
    },
    {
      "cell_type": "markdown",
      "source": [
        "# **Python OOPs**\n",
        "Object Oriented Programming concept is basically using Objects and Classes in programming\n",
        "The main concept of OOPs is to bind the data and the functions that work on that together as a single unit so\n",
        "that no other part of the code can access this data.\n",
        "Concepts of Object-Oriented Programming (OOPs)\n",
        "\n",
        "• Class\n",
        "\n",
        "• Objects\n",
        "\n",
        "• Inheritance\n",
        "\n",
        "• Polymorphism\n",
        "\n",
        "• Encapsulation\n",
        "\n",
        "• Data Abstraction\n",
        "\n",
        "# **Class**\n",
        "A class is a collection of objects. A class contains the blueprints or the prototype from which the objects are\n",
        "being created. It is a logical entity that contains some attributes and methods.\n",
        "\n",
        "• Classes are created by keyword class.\n",
        "\n",
        "• Attributes are the variables that belong to a class.\n",
        "\n",
        "• Attributes are always public and can be accessed using the dot (.) operator. Eg.: Myclass.Myattribute\n",
        "\n",
        "# **Syntax**\n",
        "\n",
        "class ClassName:\n",
        "\n",
        "  Statement-1\n",
        "\n",
        "  Statement-N"
      ],
      "metadata": {
        "id": "ZLBy-tkHfVVE"
      }
    },
    {
      "cell_type": "code",
      "source": [
        "class Vehicle:\n",
        "  def __init__(self, brand, model, type):\n",
        "    self.brand = brand\n",
        "    self.model = model\n",
        "    self.type = type\n",
        "    self.gas_tank_size = 16\n",
        "    self.fuel_level = 0\n",
        "  def fuel_up(self):\n",
        "    self.fuel_level = self.gas_tank_size\n",
        "    print('Gas tank is now full.')\n",
        "  def drive(self):\n",
        "    print(f'The {self.model} is now driving.')"
      ],
      "metadata": {
        "id": "UjId_91sh3Ft"
      },
      "execution_count": null,
      "outputs": []
    },
    {
      "cell_type": "markdown",
      "source": [
        "# **The self**\n",
        "Class methods must have an extra first parameter in the method definition. We do not give a value for\n",
        "this parameter when we call the method, Python provides it\n",
        "If we have a method that takes no arguments, then we still have to have one argument.\n",
        "\n",
        "When we call a method of this object as myobject.method(arg1, arg2), this is automatically converted\n",
        "by Python into MyClass.method(myobject, arg1, arg2)\n",
        "\n",
        "# **The __init__ method**\n",
        "The __init__ method is similar to constructors in Java & C++. It is run as soon as an object of a class is\n",
        "instantiated.\n",
        "The object is an entity that has a state and behaviour associated with it.\n",
        "An object consists of :\n",
        "\n",
        "**State:** It is represented by the attributes of an object. It also reflects the properties of an object.\n",
        "\n",
        "**Behavior:** It is represented by the methods of an object. It also reflects the response of an object to\n",
        "other objects.\n",
        "\n",
        "**Identity:** It gives a unique name to an object and enables one object to interact with other objects."
      ],
      "metadata": {
        "id": "sZylKhR_iKuI"
      }
    },
    {
      "cell_type": "code",
      "source": [
        "vehicle_obj = Vehicle('BMW', 'C Series', 'Truck')\n"
      ],
      "metadata": {
        "id": "HXB5_wg5iBN4"
      },
      "execution_count": null,
      "outputs": []
    },
    {
      "cell_type": "code",
      "source": [
        "vehicle_obj.fuel_up()"
      ],
      "metadata": {
        "colab": {
          "base_uri": "https://localhost:8080/"
        },
        "id": "WMd86msjtY4S",
        "outputId": "cce4c0ac-f2c8-43b9-b1d7-3de32af340bf"
      },
      "execution_count": null,
      "outputs": [
        {
          "output_type": "stream",
          "name": "stdout",
          "text": [
            "Gas tank is now full.\n"
          ]
        }
      ]
    },
    {
      "cell_type": "code",
      "source": [
        "vehicle_obj.drive()"
      ],
      "metadata": {
        "colab": {
          "base_uri": "https://localhost:8080/"
        },
        "id": "533UEQ-ltcQL",
        "outputId": "42618ca6-0a57-4c57-ce0d-e0f9f03d206e"
      },
      "execution_count": null,
      "outputs": [
        {
          "output_type": "stream",
          "name": "stdout",
          "text": [
            "The C Series is now driving.\n"
          ]
        }
      ]
    },
    {
      "cell_type": "markdown",
      "source": [
        "# **Class and Instance Variables**\n",
        "\n",
        "Instance variables are for data, unique to each instance and class variables are for attributes and\n",
        "methods shared by all instances of the class.\n",
        "Instance variables are variables whose value is assigned inside a constructor or method with self\n",
        "whereas class variables are variables whose value is assigned in the class."
      ],
      "metadata": {
        "id": "8x9fApkNi94L"
      }
    }
  ]
}